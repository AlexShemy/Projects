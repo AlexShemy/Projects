{
 "cells": [
  {
   "cell_type": "markdown",
   "metadata": {},
   "source": [
    "Задание:\n",
    "\n",
    "Ручной ввод данных - бич любого проекта. Доводится сталкиваться с проектами, где даже дата рождения пациента не проходит ФЛК (мне попадалась запись о женщине, которая родилась 29 февраля 1995 года, хотя в тот год 29 февраля не было).\n",
    "Но это именно то, с чем приходится работать.\n",
    "\n",
    "Раз уж сейчас коронавирусная истерия, вот и задачка про коронавирус.\n",
    "Есть база пациентов (они фиктивные, разумеется), есть их телефоны и результаты тестов. Нужно по \n",
    "всем положительным или сомнительным подтянуть телефоны. В ФИО и дате рождения пациента осознанно сделаны \n",
    "ошибки, но записи о людях всё-равно надо суметь сопоставить. При этом у человека может быть несколько \n",
    "телефонов и нужно найти все телефоны по человеку (даже если в конкретной записи про человека проба отрицательная, этот телефон может быть полезен, чтобы дозвониться до человека).\n",
    "\n",
    "Размер базы уже такой, что думать про оптимизацию (по крайней мере - отсутствие избыточности) придётся.\n",
    "Задачка предельно боевая, по нескольку раз в день приходится что-то подобное делать."
   ]
  },
  {
   "cell_type": "markdown",
   "metadata": {},
   "source": [
    "* [Сразу к итогу работы](#1)"
   ]
  },
  {
   "cell_type": "code",
   "execution_count": 1,
   "metadata": {},
   "outputs": [],
   "source": [
    "import pandas as pd\n",
    "import time"
   ]
  },
  {
   "cell_type": "code",
   "execution_count": 2,
   "metadata": {},
   "outputs": [],
   "source": [
    "df = pd.read_csv('test_dataset.csv', sep=';')"
   ]
  },
  {
   "cell_type": "code",
   "execution_count": 3,
   "metadata": {},
   "outputs": [
    {
     "data": {
      "text/html": [
       "<div>\n",
       "<style scoped>\n",
       "    .dataframe tbody tr th:only-of-type {\n",
       "        vertical-align: middle;\n",
       "    }\n",
       "\n",
       "    .dataframe tbody tr th {\n",
       "        vertical-align: top;\n",
       "    }\n",
       "\n",
       "    .dataframe thead th {\n",
       "        text-align: right;\n",
       "    }\n",
       "</style>\n",
       "<table border=\"1\" class=\"dataframe\">\n",
       "  <thead>\n",
       "    <tr style=\"text-align: right;\">\n",
       "      <th></th>\n",
       "      <th>lastname</th>\n",
       "      <th>firstname</th>\n",
       "      <th>patronname</th>\n",
       "      <th>birthday</th>\n",
       "      <th>phone</th>\n",
       "      <th>probe</th>\n",
       "    </tr>\n",
       "  </thead>\n",
       "  <tbody>\n",
       "    <tr>\n",
       "      <th>0</th>\n",
       "      <td>Lrjwxmomnr</td>\n",
       "      <td>Hzkxwwe</td>\n",
       "      <td>Cyms</td>\n",
       "      <td>02.06.1939</td>\n",
       "      <td>3253848876</td>\n",
       "      <td>?</td>\n",
       "    </tr>\n",
       "    <tr>\n",
       "      <th>1</th>\n",
       "      <td>Fkekpvub</td>\n",
       "      <td>Tcwozktfxwip</td>\n",
       "      <td>Xjymccainppw</td>\n",
       "      <td>23.03.2019</td>\n",
       "      <td>5856232</td>\n",
       "      <td>-</td>\n",
       "    </tr>\n",
       "    <tr>\n",
       "      <th>2</th>\n",
       "      <td>Dslhomol</td>\n",
       "      <td>Ylkyxi</td>\n",
       "      <td>Dfryhks</td>\n",
       "      <td>20.07.1931</td>\n",
       "      <td>820576357</td>\n",
       "      <td>-</td>\n",
       "    </tr>\n",
       "    <tr>\n",
       "      <th>3</th>\n",
       "      <td>Hrfctwrxeo</td>\n",
       "      <td>Rxzzvklpm</td>\n",
       "      <td>Bfmdh</td>\n",
       "      <td>04.07.1927</td>\n",
       "      <td>6963367826</td>\n",
       "      <td>-</td>\n",
       "    </tr>\n",
       "    <tr>\n",
       "      <th>4</th>\n",
       "      <td>Pbqrr</td>\n",
       "      <td>Hcxavic</td>\n",
       "      <td>Tieahchbag</td>\n",
       "      <td>04.06.1983</td>\n",
       "      <td>9132573105</td>\n",
       "      <td>-</td>\n",
       "    </tr>\n",
       "  </tbody>\n",
       "</table>\n",
       "</div>"
      ],
      "text/plain": [
       "     lastname     firstname    patronname    birthday       phone probe\n",
       "0  Lrjwxmomnr       Hzkxwwe          Cyms  02.06.1939  3253848876     ?\n",
       "1    Fkekpvub  Tcwozktfxwip  Xjymccainppw  23.03.2019     5856232     -\n",
       "2    Dslhomol        Ylkyxi       Dfryhks  20.07.1931   820576357     -\n",
       "3  Hrfctwrxeo     Rxzzvklpm         Bfmdh  04.07.1927  6963367826     -\n",
       "4       Pbqrr       Hcxavic    Tieahchbag  04.06.1983  9132573105     -"
      ]
     },
     "execution_count": 3,
     "metadata": {},
     "output_type": "execute_result"
    }
   ],
   "source": [
    "df.head()"
   ]
  },
  {
   "cell_type": "code",
   "execution_count": 4,
   "metadata": {},
   "outputs": [
    {
     "name": "stdout",
     "output_type": "stream",
     "text": [
      "<class 'pandas.core.frame.DataFrame'>\n",
      "RangeIndex: 2221094 entries, 0 to 2221093\n",
      "Data columns (total 6 columns):\n",
      "lastname      object\n",
      "firstname     object\n",
      "patronname    object\n",
      "birthday      object\n",
      "phone         int64\n",
      "probe         object\n",
      "dtypes: int64(1), object(5)\n",
      "memory usage: 101.7+ MB\n"
     ]
    }
   ],
   "source": [
    "df.info()"
   ]
  },
  {
   "cell_type": "code",
   "execution_count": 5,
   "metadata": {},
   "outputs": [
    {
     "data": {
      "text/html": [
       "<div>\n",
       "<style scoped>\n",
       "    .dataframe tbody tr th:only-of-type {\n",
       "        vertical-align: middle;\n",
       "    }\n",
       "\n",
       "    .dataframe tbody tr th {\n",
       "        vertical-align: top;\n",
       "    }\n",
       "\n",
       "    .dataframe thead th {\n",
       "        text-align: right;\n",
       "    }\n",
       "</style>\n",
       "<table border=\"1\" class=\"dataframe\">\n",
       "  <thead>\n",
       "    <tr style=\"text-align: right;\">\n",
       "      <th></th>\n",
       "      <th>lastname</th>\n",
       "      <th>firstname</th>\n",
       "      <th>patronname</th>\n",
       "      <th>birthday</th>\n",
       "      <th>probe</th>\n",
       "    </tr>\n",
       "  </thead>\n",
       "  <tbody>\n",
       "    <tr>\n",
       "      <th>count</th>\n",
       "      <td>2221094</td>\n",
       "      <td>2221094</td>\n",
       "      <td>2065173</td>\n",
       "      <td>2132724</td>\n",
       "      <td>2221094</td>\n",
       "    </tr>\n",
       "    <tr>\n",
       "      <th>unique</th>\n",
       "      <td>1131128</td>\n",
       "      <td>1166849</td>\n",
       "      <td>1189271</td>\n",
       "      <td>116698</td>\n",
       "      <td>3</td>\n",
       "    </tr>\n",
       "    <tr>\n",
       "      <th>top</th>\n",
       "      <td>Qyii</td>\n",
       "      <td>Fbkn</td>\n",
       "      <td>Hjnz</td>\n",
       "      <td>27.03.1949</td>\n",
       "      <td>-</td>\n",
       "    </tr>\n",
       "    <tr>\n",
       "      <th>freq</th>\n",
       "      <td>15</td>\n",
       "      <td>16</td>\n",
       "      <td>16</td>\n",
       "      <td>112</td>\n",
       "      <td>1664897</td>\n",
       "    </tr>\n",
       "  </tbody>\n",
       "</table>\n",
       "</div>"
      ],
      "text/plain": [
       "       lastname firstname patronname    birthday    probe\n",
       "count   2221094   2221094    2065173     2132724  2221094\n",
       "unique  1131128   1166849    1189271      116698        3\n",
       "top        Qyii      Fbkn       Hjnz  27.03.1949        -\n",
       "freq         15        16         16         112  1664897"
      ]
     },
     "execution_count": 5,
     "metadata": {},
     "output_type": "execute_result"
    }
   ],
   "source": [
    "df.describe(include= object)"
   ]
  },
  {
   "cell_type": "code",
   "execution_count": 6,
   "metadata": {},
   "outputs": [],
   "source": [
    "# У нас есть пациент у которого брали пробу 15 раз. Необходимо уточнить причину по корой ему сделали так много \n",
    "# анализов. Также дата рождения 27.03.1949 оказалась очень популярной (встречается 112 раз)"
   ]
  },
  {
   "cell_type": "markdown",
   "metadata": {},
   "source": [
    "<div style=\"border:solid red 4px; padding: 20px\"> Почему повтор фамилии и имени говорит о том, что это один человек? Может же быть 5 Ивановых Ивана?.</div>"
   ]
  },
  {
   "cell_type": "code",
   "execution_count": 7,
   "metadata": {},
   "outputs": [
    {
     "data": {
      "text/plain": [
       "Index(['lastname', 'firstname', 'patronname', 'birthday', 'phone', 'probe'], dtype='object')"
      ]
     },
     "execution_count": 7,
     "metadata": {},
     "output_type": "execute_result"
    }
   ],
   "source": [
    "df.columns"
   ]
  },
  {
   "cell_type": "code",
   "execution_count": 8,
   "metadata": {},
   "outputs": [],
   "source": [
    "# в качестве потготовки данных приведем поля lastname, firstname, patronname к нижнему регистру"
   ]
  },
  {
   "cell_type": "code",
   "execution_count": 9,
   "metadata": {},
   "outputs": [],
   "source": [
    "df.lastname = df.lastname.str.lower()\n",
    "df.patronname = df.patronname.str.lower()\n",
    "df.firstname = df.firstname.str.lower()"
   ]
  },
  {
   "cell_type": "code",
   "execution_count": 10,
   "metadata": {},
   "outputs": [
    {
     "data": {
      "text/plain": [
       "(2221094, 6)"
      ]
     },
     "execution_count": 10,
     "metadata": {},
     "output_type": "execute_result"
    }
   ],
   "source": [
    "df.shape"
   ]
  },
  {
   "cell_type": "code",
   "execution_count": 11,
   "metadata": {},
   "outputs": [],
   "source": [
    "# убедимся, что замена на нижний регистр прошла успешно"
   ]
  },
  {
   "cell_type": "code",
   "execution_count": 12,
   "metadata": {},
   "outputs": [
    {
     "data": {
      "text/html": [
       "<div>\n",
       "<style scoped>\n",
       "    .dataframe tbody tr th:only-of-type {\n",
       "        vertical-align: middle;\n",
       "    }\n",
       "\n",
       "    .dataframe tbody tr th {\n",
       "        vertical-align: top;\n",
       "    }\n",
       "\n",
       "    .dataframe thead th {\n",
       "        text-align: right;\n",
       "    }\n",
       "</style>\n",
       "<table border=\"1\" class=\"dataframe\">\n",
       "  <thead>\n",
       "    <tr style=\"text-align: right;\">\n",
       "      <th></th>\n",
       "      <th>lastname</th>\n",
       "      <th>firstname</th>\n",
       "      <th>patronname</th>\n",
       "      <th>birthday</th>\n",
       "      <th>phone</th>\n",
       "      <th>probe</th>\n",
       "    </tr>\n",
       "  </thead>\n",
       "  <tbody>\n",
       "    <tr>\n",
       "      <th>0</th>\n",
       "      <td>lrjwxmomnr</td>\n",
       "      <td>hzkxwwe</td>\n",
       "      <td>cyms</td>\n",
       "      <td>02.06.1939</td>\n",
       "      <td>3253848876</td>\n",
       "      <td>?</td>\n",
       "    </tr>\n",
       "    <tr>\n",
       "      <th>1</th>\n",
       "      <td>fkekpvub</td>\n",
       "      <td>tcwozktfxwip</td>\n",
       "      <td>xjymccainppw</td>\n",
       "      <td>23.03.2019</td>\n",
       "      <td>5856232</td>\n",
       "      <td>-</td>\n",
       "    </tr>\n",
       "    <tr>\n",
       "      <th>2</th>\n",
       "      <td>dslhomol</td>\n",
       "      <td>ylkyxi</td>\n",
       "      <td>dfryhks</td>\n",
       "      <td>20.07.1931</td>\n",
       "      <td>820576357</td>\n",
       "      <td>-</td>\n",
       "    </tr>\n",
       "    <tr>\n",
       "      <th>3</th>\n",
       "      <td>hrfctwrxeo</td>\n",
       "      <td>rxzzvklpm</td>\n",
       "      <td>bfmdh</td>\n",
       "      <td>04.07.1927</td>\n",
       "      <td>6963367826</td>\n",
       "      <td>-</td>\n",
       "    </tr>\n",
       "    <tr>\n",
       "      <th>4</th>\n",
       "      <td>pbqrr</td>\n",
       "      <td>hcxavic</td>\n",
       "      <td>tieahchbag</td>\n",
       "      <td>04.06.1983</td>\n",
       "      <td>9132573105</td>\n",
       "      <td>-</td>\n",
       "    </tr>\n",
       "  </tbody>\n",
       "</table>\n",
       "</div>"
      ],
      "text/plain": [
       "     lastname     firstname    patronname    birthday       phone probe\n",
       "0  lrjwxmomnr       hzkxwwe          cyms  02.06.1939  3253848876     ?\n",
       "1    fkekpvub  tcwozktfxwip  xjymccainppw  23.03.2019     5856232     -\n",
       "2    dslhomol        ylkyxi       dfryhks  20.07.1931   820576357     -\n",
       "3  hrfctwrxeo     rxzzvklpm         bfmdh  04.07.1927  6963367826     -\n",
       "4       pbqrr       hcxavic    tieahchbag  04.06.1983  9132573105     -"
      ]
     },
     "execution_count": 12,
     "metadata": {},
     "output_type": "execute_result"
    }
   ],
   "source": [
    "df.head()"
   ]
  },
  {
   "cell_type": "code",
   "execution_count": 13,
   "metadata": {},
   "outputs": [],
   "source": [
    "# проверим какие бывают пробы теста"
   ]
  },
  {
   "cell_type": "code",
   "execution_count": 14,
   "metadata": {},
   "outputs": [
    {
     "data": {
      "text/plain": [
       "array(['?', '-', '+'], dtype=object)"
      ]
     },
     "execution_count": 14,
     "metadata": {},
     "output_type": "execute_result"
    }
   ],
   "source": [
    "df.probe.unique()\n"
   ]
  },
  {
   "cell_type": "code",
   "execution_count": 15,
   "metadata": {},
   "outputs": [],
   "source": [
    "# удачно, что отсутсвуют ошибочно введенные символы, отличающиеся от заданных"
   ]
  },
  {
   "cell_type": "code",
   "execution_count": 16,
   "metadata": {},
   "outputs": [],
   "source": [
    "# Посмотрим на количество уникальных имен и фамилий"
   ]
  },
  {
   "cell_type": "code",
   "execution_count": 17,
   "metadata": {},
   "outputs": [
    {
     "data": {
      "text/plain": [
       "1129192"
      ]
     },
     "execution_count": 17,
     "metadata": {},
     "output_type": "execute_result"
    }
   ],
   "source": [
    "len(set(df.lastname))\n"
   ]
  },
  {
   "cell_type": "code",
   "execution_count": 18,
   "metadata": {},
   "outputs": [
    {
     "data": {
      "text/plain": [
       "1164302"
      ]
     },
     "execution_count": 18,
     "metadata": {},
     "output_type": "execute_result"
    }
   ],
   "source": [
    "len(df.firstname.unique())\n"
   ]
  },
  {
   "cell_type": "code",
   "execution_count": 19,
   "metadata": {},
   "outputs": [],
   "source": [
    "# настораживает большое количество уникальных имен. Делаем вывод, что вероятно датасет искуственно созданный, \n",
    "# а не получен из реального с помощью обезличивания"
   ]
  },
  {
   "cell_type": "code",
   "execution_count": 20,
   "metadata": {},
   "outputs": [],
   "source": [
    "#объединим имена и фамилии в одно множество"
   ]
  },
  {
   "cell_type": "code",
   "execution_count": 21,
   "metadata": {},
   "outputs": [],
   "source": [
    "union_lastname_firstname = set(df.lastname) | set(df.firstname)"
   ]
  },
  {
   "cell_type": "code",
   "execution_count": 22,
   "metadata": {},
   "outputs": [
    {
     "data": {
      "text/plain": [
       "2264299"
      ]
     },
     "execution_count": 22,
     "metadata": {},
     "output_type": "execute_result"
    }
   ],
   "source": [
    "len(union_lastname_firstname)"
   ]
  },
  {
   "cell_type": "markdown",
   "metadata": {},
   "source": [
    "<div style=\"border:solid red 4px; padding: 20px\"> Исправила в нижнем комменте ошибку грамматическую</div>"
   ]
  },
  {
   "cell_type": "code",
   "execution_count": 23,
   "metadata": {},
   "outputs": [],
   "source": [
    "# Проверим бывает ли, что перепутали имя и фамилию. Для этого достаточно получить пересечение Имен и Фамилий"
   ]
  },
  {
   "cell_type": "code",
   "execution_count": 24,
   "metadata": {},
   "outputs": [],
   "source": [
    "intersept_lastname_firstname = set(df.lastname) & set(df.firstname)"
   ]
  },
  {
   "cell_type": "code",
   "execution_count": 25,
   "metadata": {},
   "outputs": [
    {
     "data": {
      "text/plain": [
       "29195"
      ]
     },
     "execution_count": 25,
     "metadata": {},
     "output_type": "execute_result"
    }
   ],
   "source": [
    "len(intersept_lastname_firstname)"
   ]
  },
  {
   "cell_type": "code",
   "execution_count": 26,
   "metadata": {},
   "outputs": [
    {
     "data": {
      "text/plain": [
       "29195"
      ]
     },
     "execution_count": 26,
     "metadata": {},
     "output_type": "execute_result"
    }
   ],
   "source": [
    "len(set(df.lastname).intersection(set(df.firstname)))"
   ]
  },
  {
   "cell_type": "code",
   "execution_count": 27,
   "metadata": {},
   "outputs": [],
   "source": [
    "# Значит есть как минимум 29195 записей, в которых ошибочно занесенны Имена в графу Фамилия. \n",
    "# Для решение данной проблемы на реальном Датасете возможно путем поиска словаря имен на русском языке. И \n",
    "# последующей проверкой Фамилий из Датасета в словаре Имен русского языка. \n"
   ]
  },
  {
   "cell_type": "code",
   "execution_count": 28,
   "metadata": {},
   "outputs": [],
   "source": [
    "# Для решения данной задачи сначала подберем найдем способ перебора всех строк Датафрейма \n",
    "# и убедимся, что он работает с достаточной скоростью"
   ]
  },
  {
   "cell_type": "code",
   "execution_count": 29,
   "metadata": {},
   "outputs": [
    {
     "name": "stdout",
     "output_type": "stream",
     "text": [
      "2221094\n",
      "Прошло: 18.148587942123413 секунд\n"
     ]
    }
   ],
   "source": [
    "start_time = time.time()\n",
    "count = 0\n",
    "\n",
    "for row_namedtuple in df.itertuples():\n",
    "    count += 1 \n",
    "    \n",
    "print(count)\n",
    "print(\"Прошло: {} секунд\".format(time.time() - start_time))"
   ]
  },
  {
   "cell_type": "code",
   "execution_count": 30,
   "metadata": {},
   "outputs": [],
   "source": [
    "# 2 секунды это приемлимо, а значит скорость достаточная, так что можно смело использовать"
   ]
  },
  {
   "cell_type": "code",
   "execution_count": 31,
   "metadata": {},
   "outputs": [
    {
     "data": {
      "text/plain": [
       "Index(['lastname', 'firstname', 'patronname', 'birthday', 'phone', 'probe'], dtype='object')"
      ]
     },
     "execution_count": 31,
     "metadata": {},
     "output_type": "execute_result"
    }
   ],
   "source": [
    "df.columns\n"
   ]
  },
  {
   "cell_type": "code",
   "execution_count": 32,
   "metadata": {},
   "outputs": [],
   "source": [
    "# Исправим ошибку по записи Фамилии в поле firstname.\n",
    "\n",
    "# Для этого создадим множество из значений поля firstname\n",
    "# Проверим какое количество записей имеет совпадающие Имя и Фамилию и посчитаем их количество в переменной count_equal\n",
    "#Для тех фамилий, которые содержаться в словаре Имен поменяем местами Имя и Фамилию\n",
    "# теперь заменим поля firstname на lastname в тех именах, которые содержаться во множестве Фамилий \n",
    "# посчитаем количество "
   ]
  },
  {
   "cell_type": "code",
   "execution_count": 33,
   "metadata": {},
   "outputs": [
    {
     "name": "stdout",
     "output_type": "stream",
     "text": [
      "count, count_1, count_2 2221094 64534 2156560\n",
      "Прошло: 20.51832604408264 секунд\n",
      "Количество записей, в которых совпадало Имя и Фамилия (ошибка) равно  0\n",
      "Количество записей, в которых Фамилия содержалась во множестве Имен (ошибка) равно 64534\n",
      "Количество записей, в которых фамилия не содержалась во множестве имен (нет ошибки) 2156560\n"
     ]
    }
   ],
   "source": [
    "set_firstname = set(df.firstname)\n",
    "start_time = time.time()\n",
    "count_1 = 0\n",
    "count_2 = 0\n",
    "count_equal = 0\n",
    "\n",
    "firstname_itertuples = []\n",
    "lastname_itertuples = []\n",
    "\n",
    "for row_namedtuple in df.itertuples():\n",
    "    \n",
    "    if row_namedtuple.lastname == row_namedtuple.firstname:\n",
    "        count_equal +=1 \n",
    "        firstname_itertuples.append(row_namedtuple.firstname)\n",
    "        lastname_itertuples.append(row_namedtuple.lastname)\n",
    "        \n",
    "    elif row_namedtuple.lastname in set_firstname:\n",
    "        count_1 += 1\n",
    "        firstname_itertuples.append(row_namedtuple.lastname)\n",
    "        lastname_itertuples.append(row_namedtuple.firstname)\n",
    "    else:\n",
    "        count_2 +=1\n",
    "        firstname_itertuples.append(row_namedtuple.firstname)\n",
    "        lastname_itertuples.append(row_namedtuple.lastname)\n",
    "    \n",
    "\n",
    "print('count, count_1, count_2', count, count_1, count_2)\n",
    "df.firstname = firstname_itertuples\n",
    "df.lastname = lastname_itertuples\n",
    "\n",
    "print(\"Прошло: {} секунд\".format(time.time() - start_time))\n",
    "print('Количество записей, в которых совпадало Имя и Фамилия (ошибка) равно ', count_equal)\n",
    "print('Количество записей, в которых Фамилия содержалась во множестве Имен (ошибка) равно', count_1)\n",
    "print('Количество записей, в которых фамилия не содержалась во множестве имен (нет ошибки)', count_2)\n",
    "\n"
   ]
  },
  {
   "cell_type": "code",
   "execution_count": 34,
   "metadata": {},
   "outputs": [],
   "source": [
    "#  Исправлено 64534 записей, что можно считать хорошим результатом"
   ]
  },
  {
   "cell_type": "code",
   "execution_count": 35,
   "metadata": {},
   "outputs": [],
   "source": [
    "# Проверим остались ли Имена, которые содержатся во множестве Фамилий"
   ]
  },
  {
   "cell_type": "code",
   "execution_count": 36,
   "metadata": {},
   "outputs": [
    {
     "data": {
      "text/plain": [
       "6978"
      ]
     },
     "execution_count": 36,
     "metadata": {},
     "output_type": "execute_result"
    }
   ],
   "source": [
    "len(set(firstname_itertuples) & set(lastname_itertuples))"
   ]
  },
  {
   "cell_type": "markdown",
   "metadata": {},
   "source": [
    "<div style=\"border:solid red 4px; padding: 20px\"> Исправила в нижнем комменте ошибки грамматические</div>"
   ]
  },
  {
   "cell_type": "markdown",
   "metadata": {},
   "source": [
    " К сожалению, у нас есть почти 7 тысяч имен, которые встречаются в фамилиях и при этом эти фамилии встречаются в именах, а значит их нельзя исправить простой перестановкой (перестановка уже сделана)...\n",
    " Здесь можно предположить, что сами данные не идеальные и дальше их улучшить в этой части на основании имеющихся данных невозможно.\n",
    " Удалять их не будем, поскольку даже, если Пациент с положительной пробой указан как Петров Иванов, но у него есть номер телефона, то с ним нужно связаться"
   ]
  },
  {
   "cell_type": "code",
   "execution_count": 37,
   "metadata": {},
   "outputs": [],
   "source": [
    "intersept_lastname_firstname = set(df.lastname) & set(df.firstname)"
   ]
  },
  {
   "cell_type": "code",
   "execution_count": 38,
   "metadata": {},
   "outputs": [
    {
     "data": {
      "text/plain": [
       "6978"
      ]
     },
     "execution_count": 38,
     "metadata": {},
     "output_type": "execute_result"
    }
   ],
   "source": [
    "len(intersept_lastname_firstname)"
   ]
  },
  {
   "cell_type": "code",
   "execution_count": 39,
   "metadata": {},
   "outputs": [],
   "source": [
    "# тут мы , убедились, что пересекать множества можно разными методами и одним и тем же результатом"
   ]
  },
  {
   "cell_type": "code",
   "execution_count": 40,
   "metadata": {},
   "outputs": [],
   "source": [
    "# теперь поработаем с датой рождения"
   ]
  },
  {
   "cell_type": "code",
   "execution_count": 41,
   "metadata": {},
   "outputs": [],
   "source": [
    "import datetime"
   ]
  },
  {
   "cell_type": "code",
   "execution_count": 42,
   "metadata": {},
   "outputs": [
    {
     "data": {
      "text/html": [
       "<div>\n",
       "<style scoped>\n",
       "    .dataframe tbody tr th:only-of-type {\n",
       "        vertical-align: middle;\n",
       "    }\n",
       "\n",
       "    .dataframe tbody tr th {\n",
       "        vertical-align: top;\n",
       "    }\n",
       "\n",
       "    .dataframe thead th {\n",
       "        text-align: right;\n",
       "    }\n",
       "</style>\n",
       "<table border=\"1\" class=\"dataframe\">\n",
       "  <thead>\n",
       "    <tr style=\"text-align: right;\">\n",
       "      <th></th>\n",
       "      <th>lastname</th>\n",
       "      <th>firstname</th>\n",
       "      <th>patronname</th>\n",
       "      <th>birthday</th>\n",
       "      <th>phone</th>\n",
       "      <th>probe</th>\n",
       "    </tr>\n",
       "  </thead>\n",
       "  <tbody>\n",
       "    <tr>\n",
       "      <th>0</th>\n",
       "      <td>lrjwxmomnr</td>\n",
       "      <td>hzkxwwe</td>\n",
       "      <td>cyms</td>\n",
       "      <td>02.06.1939</td>\n",
       "      <td>3253848876</td>\n",
       "      <td>?</td>\n",
       "    </tr>\n",
       "    <tr>\n",
       "      <th>1</th>\n",
       "      <td>fkekpvub</td>\n",
       "      <td>tcwozktfxwip</td>\n",
       "      <td>xjymccainppw</td>\n",
       "      <td>23.03.2019</td>\n",
       "      <td>5856232</td>\n",
       "      <td>-</td>\n",
       "    </tr>\n",
       "    <tr>\n",
       "      <th>2</th>\n",
       "      <td>dslhomol</td>\n",
       "      <td>ylkyxi</td>\n",
       "      <td>dfryhks</td>\n",
       "      <td>20.07.1931</td>\n",
       "      <td>820576357</td>\n",
       "      <td>-</td>\n",
       "    </tr>\n",
       "    <tr>\n",
       "      <th>3</th>\n",
       "      <td>hrfctwrxeo</td>\n",
       "      <td>rxzzvklpm</td>\n",
       "      <td>bfmdh</td>\n",
       "      <td>04.07.1927</td>\n",
       "      <td>6963367826</td>\n",
       "      <td>-</td>\n",
       "    </tr>\n",
       "    <tr>\n",
       "      <th>4</th>\n",
       "      <td>pbqrr</td>\n",
       "      <td>hcxavic</td>\n",
       "      <td>tieahchbag</td>\n",
       "      <td>04.06.1983</td>\n",
       "      <td>9132573105</td>\n",
       "      <td>-</td>\n",
       "    </tr>\n",
       "  </tbody>\n",
       "</table>\n",
       "</div>"
      ],
      "text/plain": [
       "     lastname     firstname    patronname    birthday       phone probe\n",
       "0  lrjwxmomnr       hzkxwwe          cyms  02.06.1939  3253848876     ?\n",
       "1    fkekpvub  tcwozktfxwip  xjymccainppw  23.03.2019     5856232     -\n",
       "2    dslhomol        ylkyxi       dfryhks  20.07.1931   820576357     -\n",
       "3  hrfctwrxeo     rxzzvklpm         bfmdh  04.07.1927  6963367826     -\n",
       "4       pbqrr       hcxavic    tieahchbag  04.06.1983  9132573105     -"
      ]
     },
     "execution_count": 42,
     "metadata": {},
     "output_type": "execute_result"
    }
   ],
   "source": [
    "df.head()"
   ]
  },
  {
   "cell_type": "code",
   "execution_count": 43,
   "metadata": {},
   "outputs": [],
   "source": [
    "# изменим тип на datetime"
   ]
  },
  {
   "cell_type": "code",
   "execution_count": 44,
   "metadata": {},
   "outputs": [],
   "source": [
    "df['birthday_datetime'] = pd.to_datetime(df['birthday'], format='%d.%m.%Y', errors='coerce')"
   ]
  },
  {
   "cell_type": "code",
   "execution_count": 45,
   "metadata": {},
   "outputs": [],
   "source": [
    "# Для развлечения добавим поле год рождения. "
   ]
  },
  {
   "cell_type": "code",
   "execution_count": 47,
   "metadata": {},
   "outputs": [],
   "source": [
    "df['birthday_datetime_year'] = df['birthday_datetime'].dt.year"
   ]
  },
  {
   "cell_type": "code",
   "execution_count": 48,
   "metadata": {},
   "outputs": [],
   "source": [
    "# для визуального анализа посмотрим 10 случайных строк датафрейма"
   ]
  },
  {
   "cell_type": "code",
   "execution_count": 49,
   "metadata": {},
   "outputs": [
    {
     "data": {
      "text/html": [
       "<div>\n",
       "<style scoped>\n",
       "    .dataframe tbody tr th:only-of-type {\n",
       "        vertical-align: middle;\n",
       "    }\n",
       "\n",
       "    .dataframe tbody tr th {\n",
       "        vertical-align: top;\n",
       "    }\n",
       "\n",
       "    .dataframe thead th {\n",
       "        text-align: right;\n",
       "    }\n",
       "</style>\n",
       "<table border=\"1\" class=\"dataframe\">\n",
       "  <thead>\n",
       "    <tr style=\"text-align: right;\">\n",
       "      <th></th>\n",
       "      <th>lastname</th>\n",
       "      <th>firstname</th>\n",
       "      <th>patronname</th>\n",
       "      <th>birthday</th>\n",
       "      <th>phone</th>\n",
       "      <th>probe</th>\n",
       "      <th>birthday_datetime</th>\n",
       "      <th>birthday_datetime_year</th>\n",
       "    </tr>\n",
       "  </thead>\n",
       "  <tbody>\n",
       "    <tr>\n",
       "      <th>1842948</th>\n",
       "      <td>rzrvwdcoklw</td>\n",
       "      <td>kgpio</td>\n",
       "      <td>tmwtxdzpq</td>\n",
       "      <td>06.10.2019</td>\n",
       "      <td>7245654712</td>\n",
       "      <td>-</td>\n",
       "      <td>2019-10-06</td>\n",
       "      <td>2019.0</td>\n",
       "    </tr>\n",
       "    <tr>\n",
       "      <th>1067683</th>\n",
       "      <td>yafnpw</td>\n",
       "      <td>mgmqhfnkprtl</td>\n",
       "      <td>ouuwclc</td>\n",
       "      <td>25.11.1966</td>\n",
       "      <td>6171161740</td>\n",
       "      <td>-</td>\n",
       "      <td>1966-11-25</td>\n",
       "      <td>1966.0</td>\n",
       "    </tr>\n",
       "    <tr>\n",
       "      <th>984650</th>\n",
       "      <td>tfvcqhjye</td>\n",
       "      <td>tmvi</td>\n",
       "      <td>onnzfogfvv</td>\n",
       "      <td>23.06.1975</td>\n",
       "      <td>8547428770</td>\n",
       "      <td>-</td>\n",
       "      <td>1975-06-23</td>\n",
       "      <td>1975.0</td>\n",
       "    </tr>\n",
       "    <tr>\n",
       "      <th>549806</th>\n",
       "      <td>rsipg</td>\n",
       "      <td>ejak</td>\n",
       "      <td>fwydg</td>\n",
       "      <td>15.12.1964</td>\n",
       "      <td>1915352</td>\n",
       "      <td>-</td>\n",
       "      <td>1964-12-15</td>\n",
       "      <td>1964.0</td>\n",
       "    </tr>\n",
       "    <tr>\n",
       "      <th>194554</th>\n",
       "      <td>hjhbjccnzx</td>\n",
       "      <td>iqemiteq</td>\n",
       "      <td>emzfmqa</td>\n",
       "      <td>17.04.1982</td>\n",
       "      <td>5319551</td>\n",
       "      <td>-</td>\n",
       "      <td>1982-04-17</td>\n",
       "      <td>1982.0</td>\n",
       "    </tr>\n",
       "    <tr>\n",
       "      <th>1660581</th>\n",
       "      <td>rqhmkyr</td>\n",
       "      <td>zrmtehbs</td>\n",
       "      <td>dcorirhy</td>\n",
       "      <td>05.01.1952</td>\n",
       "      <td>6098492</td>\n",
       "      <td>+</td>\n",
       "      <td>1952-01-05</td>\n",
       "      <td>1952.0</td>\n",
       "    </tr>\n",
       "    <tr>\n",
       "      <th>2126518</th>\n",
       "      <td>gyiijas</td>\n",
       "      <td>fbkkfxlcubej</td>\n",
       "      <td>yvicp</td>\n",
       "      <td>22.05.1949</td>\n",
       "      <td>292531</td>\n",
       "      <td>-</td>\n",
       "      <td>1949-05-22</td>\n",
       "      <td>1949.0</td>\n",
       "    </tr>\n",
       "    <tr>\n",
       "      <th>1631926</th>\n",
       "      <td>bchovbi</td>\n",
       "      <td>jioqsjnv</td>\n",
       "      <td>byfzphpzc</td>\n",
       "      <td>13.09.2015</td>\n",
       "      <td>8866829892</td>\n",
       "      <td>?</td>\n",
       "      <td>2015-09-13</td>\n",
       "      <td>2015.0</td>\n",
       "    </tr>\n",
       "    <tr>\n",
       "      <th>15062</th>\n",
       "      <td>oellncxwffl</td>\n",
       "      <td>gotc</td>\n",
       "      <td>ctazmz</td>\n",
       "      <td>01.05.1948</td>\n",
       "      <td>7527693317</td>\n",
       "      <td>?</td>\n",
       "      <td>1948-05-01</td>\n",
       "      <td>1948.0</td>\n",
       "    </tr>\n",
       "    <tr>\n",
       "      <th>148029</th>\n",
       "      <td>dpckkp</td>\n",
       "      <td>zqolhcpoo</td>\n",
       "      <td>kzqa</td>\n",
       "      <td>22.03.2011</td>\n",
       "      <td>7099536</td>\n",
       "      <td>-</td>\n",
       "      <td>2011-03-22</td>\n",
       "      <td>2011.0</td>\n",
       "    </tr>\n",
       "  </tbody>\n",
       "</table>\n",
       "</div>"
      ],
      "text/plain": [
       "            lastname     firstname  patronname    birthday       phone probe  \\\n",
       "1842948  rzrvwdcoklw         kgpio   tmwtxdzpq  06.10.2019  7245654712     -   \n",
       "1067683       yafnpw  mgmqhfnkprtl     ouuwclc  25.11.1966  6171161740     -   \n",
       "984650     tfvcqhjye          tmvi  onnzfogfvv  23.06.1975  8547428770     -   \n",
       "549806         rsipg          ejak       fwydg  15.12.1964     1915352     -   \n",
       "194554    hjhbjccnzx      iqemiteq     emzfmqa  17.04.1982     5319551     -   \n",
       "1660581      rqhmkyr      zrmtehbs    dcorirhy  05.01.1952     6098492     +   \n",
       "2126518      gyiijas  fbkkfxlcubej       yvicp  22.05.1949      292531     -   \n",
       "1631926      bchovbi      jioqsjnv   byfzphpzc  13.09.2015  8866829892     ?   \n",
       "15062    oellncxwffl          gotc      ctazmz  01.05.1948  7527693317     ?   \n",
       "148029        dpckkp     zqolhcpoo        kzqa  22.03.2011     7099536     -   \n",
       "\n",
       "        birthday_datetime  birthday_datetime_year  \n",
       "1842948        2019-10-06                  2019.0  \n",
       "1067683        1966-11-25                  1966.0  \n",
       "984650         1975-06-23                  1975.0  \n",
       "549806         1964-12-15                  1964.0  \n",
       "194554         1982-04-17                  1982.0  \n",
       "1660581        1952-01-05                  1952.0  \n",
       "2126518        1949-05-22                  1949.0  \n",
       "1631926        2015-09-13                  2015.0  \n",
       "15062          1948-05-01                  1948.0  \n",
       "148029         2011-03-22                  2011.0  "
      ]
     },
     "execution_count": 49,
     "metadata": {},
     "output_type": "execute_result"
    }
   ],
   "source": [
    "df.sample(10)"
   ]
  },
  {
   "cell_type": "code",
   "execution_count": 50,
   "metadata": {},
   "outputs": [],
   "source": [
    "# Все ОК"
   ]
  },
  {
   "cell_type": "code",
   "execution_count": 51,
   "metadata": {},
   "outputs": [],
   "source": [
    "# Теперь на количество пропущенных значений "
   ]
  },
  {
   "cell_type": "code",
   "execution_count": 52,
   "metadata": {},
   "outputs": [
    {
     "data": {
      "text/plain": [
       "lastname                       0\n",
       "firstname                      0\n",
       "patronname                155921\n",
       "birthday                   88370\n",
       "phone                          0\n",
       "probe                          0\n",
       "birthday_datetime         162346\n",
       "birthday_datetime_year    162346\n",
       "dtype: int64"
      ]
     },
     "execution_count": 52,
     "metadata": {},
     "output_type": "execute_result"
    }
   ],
   "source": [
    "df.isnull().sum() \n"
   ]
  },
  {
   "cell_type": "markdown",
   "metadata": {},
   "source": [
    "<div style=\"border:solid red 4px; padding: 20px\"> Исправила в нижнем комменте ошибки </div>"
   ]
  },
  {
   "cell_type": "code",
   "execution_count": 53,
   "metadata": {},
   "outputs": [],
   "source": [
    "# В поле patronname пропущено более 5 процентов данных (155921 пропусков). Предлагаю обсудить, что означает \n",
    "# это поле и почему так много пропусков и принять решение, о дальнейших действиях.\n",
    "\n",
    "# birthday изначально было не заполнено 88370 записей \n",
    "\n",
    "# birthday_datetime в данном поле 162346 пропусков, а значит 77 тыс записей мы не смогли преобразовать в дату, \n",
    "# а значит в них содержались несуществующие даты.\n",
    "# Я принимаю решение не пытаться исправить эти ошибки. При необходимости могу занятся данным вопросом.\n"
   ]
  },
  {
   "cell_type": "code",
   "execution_count": 54,
   "metadata": {},
   "outputs": [],
   "source": [
    "import time"
   ]
  },
  {
   "cell_type": "code",
   "execution_count": 55,
   "metadata": {},
   "outputs": [],
   "source": [
    "# Приступаем к решению задачи по составлению словаря в котором в качестве ключа будет id пациентов у которых есть \n",
    "# хотя бы дна неотрицательная проба, в качестве значения массив из всех указанных телефонов. Если телефон \n",
    "# повторяется, то мы все равно его будем добавлять\n",
    "\n",
    "#Для решения данной задачи мы разделим всех пациентов на две части:\n",
    "#    1) пациенты у которых заполнено поле birthday_datetime\n",
    "#    2) пациенты у которых не заполнено поле birthday_datetime\n"
   ]
  },
  {
   "cell_type": "markdown",
   "metadata": {},
   "source": [
    "<div style=\"border:solid red 4px; padding: 20px\"> Снизу что за закомментная строка? На удаление?</div>"
   ]
  },
  {
   "cell_type": "code",
   "execution_count": 56,
   "metadata": {},
   "outputs": [],
   "source": [
    "#del df['id']"
   ]
  },
  {
   "cell_type": "code",
   "execution_count": null,
   "metadata": {},
   "outputs": [],
   "source": []
  },
  {
   "cell_type": "code",
   "execution_count": 57,
   "metadata": {},
   "outputs": [
    {
     "data": {
      "text/plain": [
       "162346"
      ]
     },
     "execution_count": 57,
     "metadata": {},
     "output_type": "execute_result"
    }
   ],
   "source": [
    "df.birthday_datetime.isnull().sum()"
   ]
  },
  {
   "cell_type": "code",
   "execution_count": 58,
   "metadata": {},
   "outputs": [
    {
     "data": {
      "text/plain": [
       "lastname                       0\n",
       "firstname                      0\n",
       "patronname                155921\n",
       "birthday                   88370\n",
       "phone                          0\n",
       "probe                          0\n",
       "birthday_datetime         162346\n",
       "birthday_datetime_year    162346\n",
       "dtype: int64"
      ]
     },
     "execution_count": 58,
     "metadata": {},
     "output_type": "execute_result"
    }
   ],
   "source": [
    "df.isnull().sum()"
   ]
  },
  {
   "cell_type": "code",
   "execution_count": 59,
   "metadata": {},
   "outputs": [],
   "source": [
    "# Убедимся, что id указывается корректно"
   ]
  },
  {
   "cell_type": "code",
   "execution_count": 60,
   "metadata": {},
   "outputs": [],
   "source": [
    "df_not_null = df.dropna(subset = ['birthday_datetime'], axis=0)"
   ]
  },
  {
   "cell_type": "code",
   "execution_count": 61,
   "metadata": {},
   "outputs": [
    {
     "data": {
      "text/plain": [
       "(2058748, 8)"
      ]
     },
     "execution_count": 61,
     "metadata": {},
     "output_type": "execute_result"
    }
   ],
   "source": [
    "df_not_null.shape"
   ]
  },
  {
   "cell_type": "code",
   "execution_count": 62,
   "metadata": {},
   "outputs": [
    {
     "data": {
      "text/plain": [
       "2221094"
      ]
     },
     "execution_count": 62,
     "metadata": {},
     "output_type": "execute_result"
    }
   ],
   "source": [
    "2058748 + 162346"
   ]
  },
  {
   "cell_type": "code",
   "execution_count": 63,
   "metadata": {},
   "outputs": [
    {
     "data": {
      "text/plain": [
       "(2221094, 8)"
      ]
     },
     "execution_count": 63,
     "metadata": {},
     "output_type": "execute_result"
    }
   ],
   "source": [
    "df.shape"
   ]
  },
  {
   "cell_type": "code",
   "execution_count": 64,
   "metadata": {},
   "outputs": [],
   "source": [
    "# Количество строк в полученном df_not_null + количество строк с пропущенными значениями в birthday_datetime равно\n",
    "# количеству строк в исходном датасете, значит все сделали корректно."
   ]
  },
  {
   "cell_type": "code",
   "execution_count": 65,
   "metadata": {},
   "outputs": [
    {
     "name": "stderr",
     "output_type": "stream",
     "text": [
      "/Users/mariashemyakina/anaconda3/lib/python3.7/site-packages/ipykernel_launcher.py:2: SettingWithCopyWarning: \n",
      "A value is trying to be set on a copy of a slice from a DataFrame.\n",
      "Try using .loc[row_indexer,col_indexer] = value instead\n",
      "\n",
      "See the caveats in the documentation: http://pandas.pydata.org/pandas-docs/stable/user_guide/indexing.html#returning-a-view-versus-a-copy\n",
      "  \n"
     ]
    }
   ],
   "source": [
    "#del df_not_null['id']\n",
    "df_not_null['id'] = df_not_null['lastname'] + ' ' + df_not_null['firstname'] + ' ' + df['birthday']"
   ]
  },
  {
   "cell_type": "code",
   "execution_count": 66,
   "metadata": {},
   "outputs": [],
   "source": [
    "# проверим содержание id для второй строки"
   ]
  },
  {
   "cell_type": "code",
   "execution_count": 67,
   "metadata": {},
   "outputs": [
    {
     "data": {
      "text/plain": [
       "'fkekpvub tcwozktfxwip 23.03.2019'"
      ]
     },
     "execution_count": 67,
     "metadata": {},
     "output_type": "execute_result"
    }
   ],
   "source": [
    "df_not_null.iloc[1][8]"
   ]
  },
  {
   "cell_type": "code",
   "execution_count": 68,
   "metadata": {},
   "outputs": [],
   "source": [
    "# посмотрим на сам ДатаФрейм у которого поле birthday_datetime без пропусков"
   ]
  },
  {
   "cell_type": "code",
   "execution_count": 69,
   "metadata": {},
   "outputs": [
    {
     "data": {
      "text/html": [
       "<div>\n",
       "<style scoped>\n",
       "    .dataframe tbody tr th:only-of-type {\n",
       "        vertical-align: middle;\n",
       "    }\n",
       "\n",
       "    .dataframe tbody tr th {\n",
       "        vertical-align: top;\n",
       "    }\n",
       "\n",
       "    .dataframe thead th {\n",
       "        text-align: right;\n",
       "    }\n",
       "</style>\n",
       "<table border=\"1\" class=\"dataframe\">\n",
       "  <thead>\n",
       "    <tr style=\"text-align: right;\">\n",
       "      <th></th>\n",
       "      <th>lastname</th>\n",
       "      <th>firstname</th>\n",
       "      <th>patronname</th>\n",
       "      <th>birthday</th>\n",
       "      <th>phone</th>\n",
       "      <th>probe</th>\n",
       "      <th>birthday_datetime</th>\n",
       "      <th>birthday_datetime_year</th>\n",
       "      <th>id</th>\n",
       "    </tr>\n",
       "  </thead>\n",
       "  <tbody>\n",
       "    <tr>\n",
       "      <th>0</th>\n",
       "      <td>lrjwxmomnr</td>\n",
       "      <td>hzkxwwe</td>\n",
       "      <td>cyms</td>\n",
       "      <td>02.06.1939</td>\n",
       "      <td>3253848876</td>\n",
       "      <td>?</td>\n",
       "      <td>1939-06-02</td>\n",
       "      <td>1939.0</td>\n",
       "      <td>lrjwxmomnr hzkxwwe 02.06.1939</td>\n",
       "    </tr>\n",
       "    <tr>\n",
       "      <th>1</th>\n",
       "      <td>fkekpvub</td>\n",
       "      <td>tcwozktfxwip</td>\n",
       "      <td>xjymccainppw</td>\n",
       "      <td>23.03.2019</td>\n",
       "      <td>5856232</td>\n",
       "      <td>-</td>\n",
       "      <td>2019-03-23</td>\n",
       "      <td>2019.0</td>\n",
       "      <td>fkekpvub tcwozktfxwip 23.03.2019</td>\n",
       "    </tr>\n",
       "    <tr>\n",
       "      <th>2</th>\n",
       "      <td>dslhomol</td>\n",
       "      <td>ylkyxi</td>\n",
       "      <td>dfryhks</td>\n",
       "      <td>20.07.1931</td>\n",
       "      <td>820576357</td>\n",
       "      <td>-</td>\n",
       "      <td>1931-07-20</td>\n",
       "      <td>1931.0</td>\n",
       "      <td>dslhomol ylkyxi 20.07.1931</td>\n",
       "    </tr>\n",
       "    <tr>\n",
       "      <th>3</th>\n",
       "      <td>hrfctwrxeo</td>\n",
       "      <td>rxzzvklpm</td>\n",
       "      <td>bfmdh</td>\n",
       "      <td>04.07.1927</td>\n",
       "      <td>6963367826</td>\n",
       "      <td>-</td>\n",
       "      <td>1927-07-04</td>\n",
       "      <td>1927.0</td>\n",
       "      <td>hrfctwrxeo rxzzvklpm 04.07.1927</td>\n",
       "    </tr>\n",
       "    <tr>\n",
       "      <th>4</th>\n",
       "      <td>pbqrr</td>\n",
       "      <td>hcxavic</td>\n",
       "      <td>tieahchbag</td>\n",
       "      <td>04.06.1983</td>\n",
       "      <td>9132573105</td>\n",
       "      <td>-</td>\n",
       "      <td>1983-06-04</td>\n",
       "      <td>1983.0</td>\n",
       "      <td>pbqrr hcxavic 04.06.1983</td>\n",
       "    </tr>\n",
       "  </tbody>\n",
       "</table>\n",
       "</div>"
      ],
      "text/plain": [
       "     lastname     firstname    patronname    birthday       phone probe  \\\n",
       "0  lrjwxmomnr       hzkxwwe          cyms  02.06.1939  3253848876     ?   \n",
       "1    fkekpvub  tcwozktfxwip  xjymccainppw  23.03.2019     5856232     -   \n",
       "2    dslhomol        ylkyxi       dfryhks  20.07.1931   820576357     -   \n",
       "3  hrfctwrxeo     rxzzvklpm         bfmdh  04.07.1927  6963367826     -   \n",
       "4       pbqrr       hcxavic    tieahchbag  04.06.1983  9132573105     -   \n",
       "\n",
       "  birthday_datetime  birthday_datetime_year                                id  \n",
       "0        1939-06-02                  1939.0     lrjwxmomnr hzkxwwe 02.06.1939  \n",
       "1        2019-03-23                  2019.0  fkekpvub tcwozktfxwip 23.03.2019  \n",
       "2        1931-07-20                  1931.0        dslhomol ylkyxi 20.07.1931  \n",
       "3        1927-07-04                  1927.0   hrfctwrxeo rxzzvklpm 04.07.1927  \n",
       "4        1983-06-04                  1983.0          pbqrr hcxavic 04.06.1983  "
      ]
     },
     "execution_count": 69,
     "metadata": {},
     "output_type": "execute_result"
    }
   ],
   "source": [
    "df_not_null.head()"
   ]
  },
  {
   "cell_type": "code",
   "execution_count": 70,
   "metadata": {},
   "outputs": [],
   "source": [
    "# возьмем датафрейм в корректно указанной birthday и его часть с неотрицательным результатом проб"
   ]
  },
  {
   "cell_type": "code",
   "execution_count": 71,
   "metadata": {},
   "outputs": [],
   "source": [
    "df_not_null_poz_quest = df_not_null[(df_not_null['probe'] == '+') | (df_not_null['probe'] == '?')]"
   ]
  },
  {
   "cell_type": "code",
   "execution_count": 72,
   "metadata": {},
   "outputs": [],
   "source": [
    "# Сначала сделаем словарь, в котором в качестве в качестве ключа id, а в качестве значений номера телефонов. \n",
    "# Пройдем по ДатаРФему df_not_null_poz_quest и будем добавлять дополнительный номер, если id уже в словаре\n",
    "# в данном словаре, если id есть в словаре, то мы добавляем телефон даже если он уже есть у этого ключа. Таким \n",
    "# образом, если телефон указан дважды, то выше вероятность, что он без ошибки.\n",
    "# В данном Датафрейме только неотрицательные результаты проб, поэтому все id номера телефонов нам нужны и мы \n",
    "# поместим их в словарь"
   ]
  },
  {
   "cell_type": "code",
   "execution_count": 73,
   "metadata": {},
   "outputs": [
    {
     "data": {
      "text/plain": [
       "(515464, 9)"
      ]
     },
     "execution_count": 73,
     "metadata": {},
     "output_type": "execute_result"
    }
   ],
   "source": [
    "df_not_null_poz_quest.shape"
   ]
  },
  {
   "cell_type": "code",
   "execution_count": null,
   "metadata": {},
   "outputs": [],
   "source": [
    "slovar_not_null = {}\n",
    "start_time = time.time()\n",
    "\n",
    "for i in range(len(df_not_null_poz_quest)):\n",
    "    if df_not_null_poz_quest.iloc[i][8] not in slovar_not_null:\n",
    "        slovar_not_null[df_not_null_poz_quest.iloc[i][8]] = str(df_not_null_poz_quest.iloc[i][4])\n",
    "    else:\n",
    "        slovar_not_null[df_not_null_poz_quest.iloc[i][8]] += ', '\n",
    "        slovar_not_null[df_not_null_poz_quest.iloc[i][8]] += str(df_not_null_poz_quest.iloc[i][4])\n",
    "        \n",
    "        \n",
    "print(\"Time using: {} sec\".format(time.time() - start_time))"
   ]
  },
  {
   "cell_type": "code",
   "execution_count": null,
   "metadata": {},
   "outputs": [],
   "source": [
    "# время выполнения 244 сек вполне терпимое для данного датафрейма. Осталось обработать 1,5 млн записей, а значит \n",
    "# это займет 700 сек, т. е. менее 12 мин."
   ]
  },
  {
   "cell_type": "code",
   "execution_count": null,
   "metadata": {},
   "outputs": [],
   "source": [
    "print('Количество ключей в словаре равно', len(slovar_not_null))"
   ]
  },
  {
   "cell_type": "code",
   "execution_count": null,
   "metadata": {},
   "outputs": [],
   "source": [
    "# Возьмем ДатаФрейм, в котором ненулевое значение birthday_datetime, но значение пробы указано как отрицательное"
   ]
  },
  {
   "cell_type": "code",
   "execution_count": null,
   "metadata": {},
   "outputs": [],
   "source": [
    "df_not_null_negat = df_not_null[df_not_null['probe'] == '-']"
   ]
  },
  {
   "cell_type": "code",
   "execution_count": null,
   "metadata": {},
   "outputs": [],
   "source": [
    "df_not_null_negat.shape"
   ]
  },
  {
   "cell_type": "code",
   "execution_count": null,
   "metadata": {},
   "outputs": [],
   "source": [
    "# Добавим в словарь телефоны для тех ключей у которых есть неотрицательные пробы"
   ]
  },
  {
   "cell_type": "code",
   "execution_count": null,
   "metadata": {},
   "outputs": [],
   "source": [
    "start_time = time.time()\n",
    "\n",
    "for i in range(len(df_not_null_negat)):\n",
    "    if df_not_null_negat.iloc[i][8] in slovar_not_null:\n",
    "        slovar_not_null[df_not_null_negat.iloc[i][8]] += ', '\n",
    "        slovar_not_null[df_not_null_negat.iloc[i][8]] += str(df_not_null_negat.iloc[i][4])\n",
    "        \n",
    "        \n",
    "print(\"Time using: {} sec\".format(time.time() - start_time))"
   ]
  },
  {
   "cell_type": "code",
   "execution_count": null,
   "metadata": {},
   "outputs": [],
   "source": [
    "# добавили телефоны в словарь за 7.5 мин, что вполне нормально."
   ]
  },
  {
   "cell_type": "code",
   "execution_count": null,
   "metadata": {},
   "outputs": [],
   "source": []
  },
  {
   "cell_type": "code",
   "execution_count": null,
   "metadata": {},
   "outputs": [],
   "source": [
    "# создадим ДатаФрейм из исходного в котором поле birthday не заполнено, либо заполнено с ошибками (в таком случае \n",
    "# незаполнено поле birthday_datetime)"
   ]
  },
  {
   "cell_type": "code",
   "execution_count": null,
   "metadata": {},
   "outputs": [],
   "source": [
    "df_null = df[pd.isnull(df.birthday_datetime)]"
   ]
  },
  {
   "cell_type": "code",
   "execution_count": null,
   "metadata": {},
   "outputs": [],
   "source": [
    "df_null.sample(10)"
   ]
  },
  {
   "cell_type": "code",
   "execution_count": null,
   "metadata": {},
   "outputs": [],
   "source": [
    "df_null.shape"
   ]
  },
  {
   "cell_type": "code",
   "execution_count": null,
   "metadata": {},
   "outputs": [],
   "source": [
    "#После визуального осмотра данных решаю в данном Датафрейме в качестве id взять lastname + firstname\n",
    "# Можно еще добавить patronname, но есть риск, что в нем много ошибок и тогда станет только хуже"
   ]
  },
  {
   "cell_type": "code",
   "execution_count": null,
   "metadata": {},
   "outputs": [],
   "source": [
    "df_null['id'] = df_null['firstname'] + ' ' + df_null['lastname']"
   ]
  },
  {
   "cell_type": "code",
   "execution_count": null,
   "metadata": {},
   "outputs": [],
   "source": [
    "df_null.sample(5)"
   ]
  },
  {
   "cell_type": "code",
   "execution_count": null,
   "metadata": {},
   "outputs": [],
   "source": [
    "#Визуальный осмотр данных удовлетворительный. Приступим к созданию словаря.\n",
    "# Для этого разделим ДатаФрейм на 2:\n",
    "#    1) С неотрицательными пробами\n",
    "#    2) с отрицательными пробами"
   ]
  },
  {
   "cell_type": "code",
   "execution_count": null,
   "metadata": {},
   "outputs": [],
   "source": [
    "df_null_poz_quest = df_null[(df_null['probe'] == '+') | (df_null['probe'] == '?')]"
   ]
  },
  {
   "cell_type": "code",
   "execution_count": null,
   "metadata": {},
   "outputs": [],
   "source": [
    "df_null_negat = df_null[(df_null['probe'] == '-')]"
   ]
  },
  {
   "cell_type": "code",
   "execution_count": null,
   "metadata": {},
   "outputs": [],
   "source": [
    "#Убедимся, что суммарно количество записей этих 2 ДатаФреймов равно исходному"
   ]
  },
  {
   "cell_type": "code",
   "execution_count": null,
   "metadata": {},
   "outputs": [],
   "source": [
    "print('Размерность исходного Датафрейма', df_null.shape )"
   ]
  },
  {
   "cell_type": "code",
   "execution_count": null,
   "metadata": {},
   "outputs": [],
   "source": [
    "print('Суммарное количество строк двух получившихся Датафреймов равно ', df_null_poz_quest.shape[0] + df_null_negat.shape[0])"
   ]
  },
  {
   "cell_type": "code",
   "execution_count": null,
   "metadata": {},
   "outputs": [],
   "source": [
    "# все отлично, можно продолжать"
   ]
  },
  {
   "cell_type": "code",
   "execution_count": null,
   "metadata": {},
   "outputs": [],
   "source": [
    "# Создадим словарь slovar_null, в который будем помещать id и номера телефонов пациентов у которых есть хотя бы  \n",
    "# одна неотрицательная проба"
   ]
  },
  {
   "cell_type": "code",
   "execution_count": null,
   "metadata": {},
   "outputs": [],
   "source": [
    "slovar_null = {}"
   ]
  },
  {
   "cell_type": "code",
   "execution_count": null,
   "metadata": {},
   "outputs": [],
   "source": [
    "# Добавим в этот словарь id и номера телефонов для неотрицательных проб"
   ]
  },
  {
   "cell_type": "code",
   "execution_count": null,
   "metadata": {},
   "outputs": [],
   "source": [
    "slovar_null = {}\n",
    "start_time = time.time()\n",
    "\n",
    "for i in range(len(df_null_poz_quest)):\n",
    "    if df_null_poz_quest.iloc[i][8] not in slovar_null:\n",
    "        slovar_null[df_null_poz_quest.iloc[i][8]] = str(df_null_poz_quest.iloc[i][4])\n",
    "    else:\n",
    "        slovar_null[df_null_poz_quest.iloc[i][8]] += ', '\n",
    "        slovar_null[df_null_poz_quest.iloc[i][8]] += str(df_null_poz_quest.iloc[i][4])\n",
    "        \n",
    "        \n",
    "print(\"Time using: {} sec\".format(time.time() - start_time))"
   ]
  },
  {
   "cell_type": "code",
   "execution_count": null,
   "metadata": {},
   "outputs": [],
   "source": [
    "# Теперь обогатим наш словарь телефонами из Датафрейма с отрицательными пробами df_null_negat."
   ]
  },
  {
   "cell_type": "code",
   "execution_count": null,
   "metadata": {},
   "outputs": [],
   "source": [
    "start_time = time.time()\n",
    "\n",
    "for i in range(len(df_null_negat)):\n",
    "    if df_null_negat.iloc[i][8] in slovar_null:\n",
    "        slovar_null[df_null_negat.iloc[i][8]] += ', '\n",
    "        slovar_null[df_null_negat.iloc[i][8]] += str(df_null_negat.iloc[i][4])\n",
    "        \n",
    "        \n",
    "print(\"Time using: {} sec\".format(time.time() - start_time))"
   ]
  },
  {
   "cell_type": "markdown",
   "metadata": {},
   "source": [
    " # Итог <a class=\"anchor\" id=\"1\"></a>"
   ]
  },
  {
   "cell_type": "markdown",
   "metadata": {},
   "source": [
    "\n",
    "\n",
    "   Проведена работа по исправлению ошибки если Имя попало в Фамилию и наоборот. Однако в исходном датасете есть ошибки типа Имя + Имя и Фамилия + Фамилия, а их исправить в автоматическом режиме без словаря имен нельзя.\n",
    "\n",
    "Мы получили 2 словаря: \n",
    "\n",
    "   - 1 словарь slovar_not_null содержит в качестве ключа  сумму \n",
    "        df_not_null['lastname'] + ' ' + df_not_null['firstname'] + ' ' + df['birthday']\n",
    "        для всех записей, а в качестве значения, все телефоны (включая телефоны для отрицательных проб, если\n",
    "        с для данного id есть хоть одна неотрицательная проба)\n",
    "        В этом словаре содержаться информация по записям, в которых указанную дату удалось преобразовать в datetime\n",
    "        \n",
    "   - 2 словарь slovar_null содержит в качестве ключа содержит сумму \n",
    "        df_not_null['lastname'] + ' ' + df_not_null['firstname'] \n",
    "        для всех записей, а в качестве значения, все телефоны (включая телефоны для отрицательных проб, если\n",
    "        с для данного id есть хоть одна неотрицательная проба)\n",
    "        \n",
    " В Данном решении я пожертвовал тем, что если у пациента есть неотрицательная проба, в которой корректно указана дата рождения и есть отрицательные пробы  в которых дата рождения не указана, либо указана некорректно, то для меня это разные пациенты.\n",
    " \n",
    "Общее время расчета 12 минут."
   ]
  },
  {
   "cell_type": "code",
   "execution_count": null,
   "metadata": {},
   "outputs": [],
   "source": []
  },
  {
   "cell_type": "code",
   "execution_count": null,
   "metadata": {},
   "outputs": [],
   "source": []
  },
  {
   "cell_type": "code",
   "execution_count": null,
   "metadata": {},
   "outputs": [],
   "source": []
  },
  {
   "cell_type": "code",
   "execution_count": null,
   "metadata": {},
   "outputs": [],
   "source": []
  },
  {
   "cell_type": "code",
   "execution_count": null,
   "metadata": {},
   "outputs": [],
   "source": []
  }
 ],
 "metadata": {
  "kernelspec": {
   "display_name": "Python 3",
   "language": "python",
   "name": "python3"
  },
  "language_info": {
   "codemirror_mode": {
    "name": "ipython",
    "version": 3
   },
   "file_extension": ".py",
   "mimetype": "text/x-python",
   "name": "python",
   "nbconvert_exporter": "python",
   "pygments_lexer": "ipython3",
   "version": "3.7.3"
  }
 },
 "nbformat": 4,
 "nbformat_minor": 2
}
